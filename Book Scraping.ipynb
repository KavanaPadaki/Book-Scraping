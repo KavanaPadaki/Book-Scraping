{
 "cells": [
  {
   "cell_type": "code",
   "execution_count": 1,
   "id": "f6156f26",
   "metadata": {},
   "outputs": [],
   "source": [
    "import requests\n",
    "import pandas as pd\n",
    "from bs4 import BeautifulSoup\n",
    "from tqdm import tqdm\n",
    "import numpy as np"
   ]
  },
  {
   "cell_type": "code",
   "execution_count": 2,
   "id": "af0976d1",
   "metadata": {},
   "outputs": [
    {
     "data": {
      "text/html": [
       "<div>\n",
       "<style scoped>\n",
       "    .dataframe tbody tr th:only-of-type {\n",
       "        vertical-align: middle;\n",
       "    }\n",
       "\n",
       "    .dataframe tbody tr th {\n",
       "        vertical-align: top;\n",
       "    }\n",
       "\n",
       "    .dataframe thead th {\n",
       "        text-align: right;\n",
       "    }\n",
       "</style>\n",
       "<table border=\"1\" class=\"dataframe\">\n",
       "  <thead>\n",
       "    <tr style=\"text-align: right;\">\n",
       "      <th></th>\n",
       "      <th>title</th>\n",
       "      <th>rating</th>\n",
       "      <th>price</th>\n",
       "      <th>availability</th>\n",
       "      <th>title_link</th>\n",
       "      <th>img_link</th>\n",
       "    </tr>\n",
       "  </thead>\n",
       "  <tbody>\n",
       "    <tr>\n",
       "      <th>0</th>\n",
       "      <td>A Light in the Attic</td>\n",
       "      <td>Three</td>\n",
       "      <td>51.77</td>\n",
       "      <td>In stock</td>\n",
       "      <td>https://books.toscrape.com/catalogue/a-light-i...</td>\n",
       "      <td>https://books.toscrape.com/media/cache/2c/da/2...</td>\n",
       "    </tr>\n",
       "    <tr>\n",
       "      <th>1</th>\n",
       "      <td>Tipping the Velvet</td>\n",
       "      <td>One</td>\n",
       "      <td>53.74</td>\n",
       "      <td>In stock</td>\n",
       "      <td>https://books.toscrape.com/catalogue/tipping-t...</td>\n",
       "      <td>https://books.toscrape.com/media/cache/26/0c/2...</td>\n",
       "    </tr>\n",
       "    <tr>\n",
       "      <th>2</th>\n",
       "      <td>Soumission</td>\n",
       "      <td>One</td>\n",
       "      <td>50.10</td>\n",
       "      <td>In stock</td>\n",
       "      <td>https://books.toscrape.com/catalogue/soumissio...</td>\n",
       "      <td>https://books.toscrape.com/media/cache/3e/ef/3...</td>\n",
       "    </tr>\n",
       "    <tr>\n",
       "      <th>3</th>\n",
       "      <td>Sharp Objects</td>\n",
       "      <td>Four</td>\n",
       "      <td>47.82</td>\n",
       "      <td>In stock</td>\n",
       "      <td>https://books.toscrape.com/catalogue/sharp-obj...</td>\n",
       "      <td>https://books.toscrape.com/media/cache/32/51/3...</td>\n",
       "    </tr>\n",
       "    <tr>\n",
       "      <th>4</th>\n",
       "      <td>Sapiens: A Brief History of Humankind</td>\n",
       "      <td>Five</td>\n",
       "      <td>54.23</td>\n",
       "      <td>In stock</td>\n",
       "      <td>https://books.toscrape.com/catalogue/sapiens-a...</td>\n",
       "      <td>https://books.toscrape.com/media/cache/be/a5/b...</td>\n",
       "    </tr>\n",
       "  </tbody>\n",
       "</table>\n",
       "</div>"
      ],
      "text/plain": [
       "                                   title rating  price availability  \\\n",
       "0                   A Light in the Attic  Three  51.77     In stock   \n",
       "1                     Tipping the Velvet    One  53.74     In stock   \n",
       "2                             Soumission    One  50.10     In stock   \n",
       "3                          Sharp Objects   Four  47.82     In stock   \n",
       "4  Sapiens: A Brief History of Humankind   Five  54.23     In stock   \n",
       "\n",
       "                                          title_link  \\\n",
       "0  https://books.toscrape.com/catalogue/a-light-i...   \n",
       "1  https://books.toscrape.com/catalogue/tipping-t...   \n",
       "2  https://books.toscrape.com/catalogue/soumissio...   \n",
       "3  https://books.toscrape.com/catalogue/sharp-obj...   \n",
       "4  https://books.toscrape.com/catalogue/sapiens-a...   \n",
       "\n",
       "                                            img_link  \n",
       "0  https://books.toscrape.com/media/cache/2c/da/2...  \n",
       "1  https://books.toscrape.com/media/cache/26/0c/2...  \n",
       "2  https://books.toscrape.com/media/cache/3e/ef/3...  \n",
       "3  https://books.toscrape.com/media/cache/32/51/3...  \n",
       "4  https://books.toscrape.com/media/cache/be/a5/b...  "
      ]
     },
     "execution_count": 2,
     "metadata": {},
     "output_type": "execute_result"
    }
   ],
   "source": [
    "df = pd.read_csv('Books.csv',encoding = 'ISO-8859-1')\n",
    "df.head()"
   ]
  },
  {
   "cell_type": "code",
   "execution_count": 3,
   "id": "2233a4d8",
   "metadata": {},
   "outputs": [
    {
     "name": "stderr",
     "output_type": "stream",
     "text": [
      "100%|██████████████████████████████████████████████████████████████████████████████| 1000/1000 [16:40<00:00,  1.00s/it]\n"
     ]
    }
   ],
   "source": [
    "data=[]\n",
    "for sp in tqdm(df['title_link']):\n",
    "    \n",
    "    res  = requests.get(sp)\n",
    "    soup = BeautifulSoup(res.text,'html.parser')\n",
    "    \n",
    "    cat  = soup.find('ul',class_='breadcrumb').find_all('a')[2].text\n",
    "    qn   = soup.find('p',class_='instock availability').text[25:-16].strip()\n",
    "    temp = soup.find('table', class_='table table-striped').find_all('td')\n",
    "    \n",
    "    upc      = temp[0].text\n",
    "    price_x  = temp[2].text[1:]\n",
    "    price_i  = temp[3].text[1:]\n",
    "    tax      = temp[4].text[1:]\n",
    "    review   = temp[6].text\n",
    "    \n",
    "    data.append([cat,qn,upc,price_x,price_i,tax,review])"
   ]
  },
  {
   "cell_type": "code",
   "execution_count": 4,
   "id": "a80370a7",
   "metadata": {},
   "outputs": [],
   "source": [
    "up1c = soup.find('table', class_='table table-striped').find_all('td')\n"
   ]
  },
  {
   "cell_type": "code",
   "execution_count": 5,
   "id": "735315f5",
   "metadata": {},
   "outputs": [
    {
     "data": {
      "text/plain": [
       "'1'"
      ]
     },
     "execution_count": 5,
     "metadata": {},
     "output_type": "execute_result"
    }
   ],
   "source": [
    "qn"
   ]
  },
  {
   "cell_type": "code",
   "execution_count": 6,
   "id": "1ba14044",
   "metadata": {},
   "outputs": [
    {
     "data": {
      "text/plain": [
       "'228ba5e7577e1d49'"
      ]
     },
     "execution_count": 6,
     "metadata": {},
     "output_type": "execute_result"
    }
   ],
   "source": [
    "upc"
   ]
  },
  {
   "cell_type": "code",
   "execution_count": 24,
   "id": "d68ebc5d",
   "metadata": {},
   "outputs": [
    {
     "name": "stdout",
     "output_type": "stream",
     "text": [
      "Â£52.37\n"
     ]
    }
   ],
   "source": [
    "temp = soup.find('table', class_ = 'table table-striped').find_all('td')\n",
    "print(temp[2].text[1:])\n"
   ]
  },
  {
   "cell_type": "code",
   "execution_count": 7,
   "id": "d1b4d3aa",
   "metadata": {},
   "outputs": [
    {
     "data": {
      "text/plain": [
       "'£26.08'"
      ]
     },
     "execution_count": 7,
     "metadata": {},
     "output_type": "execute_result"
    }
   ],
   "source": [
    " temp[2].text[1:]\n"
   ]
  },
  {
   "cell_type": "code",
   "execution_count": 8,
   "id": "a7b1aaef",
   "metadata": {},
   "outputs": [
    {
     "data": {
      "text/plain": [
       "'0'"
      ]
     },
     "execution_count": 8,
     "metadata": {},
     "output_type": "execute_result"
    }
   ],
   "source": [
    "temp[6].text"
   ]
  },
  {
   "cell_type": "code",
   "execution_count": 9,
   "id": "3b05f394",
   "metadata": {},
   "outputs": [
    {
     "data": {
      "text/html": [
       "<div>\n",
       "<style scoped>\n",
       "    .dataframe tbody tr th:only-of-type {\n",
       "        vertical-align: middle;\n",
       "    }\n",
       "\n",
       "    .dataframe tbody tr th {\n",
       "        vertical-align: top;\n",
       "    }\n",
       "\n",
       "    .dataframe thead th {\n",
       "        text-align: right;\n",
       "    }\n",
       "</style>\n",
       "<table border=\"1\" class=\"dataframe\">\n",
       "  <thead>\n",
       "    <tr style=\"text-align: right;\">\n",
       "      <th></th>\n",
       "      <th>Category</th>\n",
       "      <th>Quantity</th>\n",
       "      <th>UPC</th>\n",
       "      <th>Price_x</th>\n",
       "      <th>Price_i</th>\n",
       "      <th>Tax</th>\n",
       "      <th>Review</th>\n",
       "    </tr>\n",
       "  </thead>\n",
       "  <tbody>\n",
       "    <tr>\n",
       "      <th>0</th>\n",
       "      <td>Poetry</td>\n",
       "      <td>22</td>\n",
       "      <td>a897fe39b1053632</td>\n",
       "      <td>£51.77</td>\n",
       "      <td>£51.77</td>\n",
       "      <td>£0.00</td>\n",
       "      <td>0</td>\n",
       "    </tr>\n",
       "    <tr>\n",
       "      <th>1</th>\n",
       "      <td>Historical Fiction</td>\n",
       "      <td>20</td>\n",
       "      <td>90fa61229261140a</td>\n",
       "      <td>£53.74</td>\n",
       "      <td>£53.74</td>\n",
       "      <td>£0.00</td>\n",
       "      <td>0</td>\n",
       "    </tr>\n",
       "    <tr>\n",
       "      <th>2</th>\n",
       "      <td>Fiction</td>\n",
       "      <td>20</td>\n",
       "      <td>6957f44c3847a760</td>\n",
       "      <td>£50.10</td>\n",
       "      <td>£50.10</td>\n",
       "      <td>£0.00</td>\n",
       "      <td>0</td>\n",
       "    </tr>\n",
       "    <tr>\n",
       "      <th>3</th>\n",
       "      <td>Mystery</td>\n",
       "      <td>20</td>\n",
       "      <td>e00eb4fd7b871a48</td>\n",
       "      <td>£47.82</td>\n",
       "      <td>£47.82</td>\n",
       "      <td>£0.00</td>\n",
       "      <td>0</td>\n",
       "    </tr>\n",
       "    <tr>\n",
       "      <th>4</th>\n",
       "      <td>History</td>\n",
       "      <td>20</td>\n",
       "      <td>4165285e1663650f</td>\n",
       "      <td>£54.23</td>\n",
       "      <td>£54.23</td>\n",
       "      <td>£0.00</td>\n",
       "      <td>0</td>\n",
       "    </tr>\n",
       "  </tbody>\n",
       "</table>\n",
       "</div>"
      ],
      "text/plain": [
       "             Category Quantity               UPC Price_x Price_i    Tax Review\n",
       "0              Poetry       22  a897fe39b1053632  £51.77  £51.77  £0.00      0\n",
       "1  Historical Fiction       20  90fa61229261140a  £53.74  £53.74  £0.00      0\n",
       "2             Fiction       20  6957f44c3847a760  £50.10  £50.10  £0.00      0\n",
       "3             Mystery       20  e00eb4fd7b871a48  £47.82  £47.82  £0.00      0\n",
       "4             History       20  4165285e1663650f  £54.23  £54.23  £0.00      0"
      ]
     },
     "execution_count": 9,
     "metadata": {},
     "output_type": "execute_result"
    }
   ],
   "source": [
    "df = pd.DataFrame(data, columns = ['Category','Quantity','UPC','Price_x','Price_i','Tax','Review'])\n",
    "df.head()"
   ]
  },
  {
   "cell_type": "code",
   "execution_count": 10,
   "id": "eb43bf6e",
   "metadata": {},
   "outputs": [],
   "source": [
    "df.to_csv('Book_info.csv',index= False)"
   ]
  },
  {
   "cell_type": "code",
   "execution_count": 16,
   "id": "eb63f726",
   "metadata": {},
   "outputs": [
    {
     "name": "stderr",
     "output_type": "stream",
     "text": [
      "100%|██████████████████████████████████████████████████████████████████████████████████| 50/50 [01:13<00:00,  1.47s/it]\n"
     ]
    }
   ],
   "source": [
    "data1=[]\n",
    "for i in tqdm(range(1,51)):\n",
    "    link = 'https://books.toscrape.com/catalogue/category/books_1/page-'+str(i)+'.html'\n",
    "    res = requests.get(link)\n",
    "    soup = BeautifulSoup(res.text,'html.parser')\n",
    "    \n",
    "    for sp in soup.find_all('li',class_='col-xs-6 col-sm-4 col-md-3 col-lg-3') :\n",
    "        \n",
    "        img_link    = 'https://books.toscrape.com'+ sp.find('img').get('src')[8:]\n",
    "        title_link  = 'https://books.toscrape.com/catalogue' + sp.find('a').get('href')[5:]\n",
    "        title       = sp.find_all('a')[-1].get('title')\n",
    "        rating      = sp.find('p').get('class')[-1]\n",
    "        price       = sp.find('p',class_='price_color').text[2:]\n",
    "        availability= sp.find('p',class_='instock availability').text.strip()\n",
    "\n",
    "        data1.append([title, rating, price,availability, title_link, img_link])\n",
    "        "
   ]
  },
  {
   "cell_type": "code",
   "execution_count": 17,
   "id": "69b84797",
   "metadata": {},
   "outputs": [],
   "source": [
    "df = pd.DataFrame(data1,columns=['title', 'rating', 'price','availability', 'title_link', 'img_link'])"
   ]
  },
  {
   "cell_type": "code",
   "execution_count": 18,
   "id": "892e2d07",
   "metadata": {},
   "outputs": [
    {
     "name": "stderr",
     "output_type": "stream",
     "text": [
      "100%|██████████████████████████████████████████████████████████████████████████████| 1000/1000 [16:28<00:00,  1.01it/s]\n"
     ]
    }
   ],
   "source": [
    "data2=[]\n",
    "for sp in tqdm(df['title_link']):\n",
    "    \n",
    "    res  = requests.get(sp)\n",
    "    soup = BeautifulSoup(res.text,'html.parser')\n",
    "    \n",
    "    cat  = soup.find('ul',class_='breadcrumb').find_all('a')[2].text\n",
    "    qn   = soup.find('p',class_='instock availability').text[25:-16].strip()\n",
    "    temp = soup.find('table', class_='table table-striped').find_all('td')\n",
    "    \n",
    "    upc      = temp[0].text\n",
    "    price_x  = temp[2].text[1:]\n",
    "    price_i  = temp[3].text[1:]\n",
    "    tax      = temp[4].text[1:]\n",
    "    review   = temp[6].text\n",
    "    \n",
    "    data2.append([cat,qn,upc,price_x,price_i,tax,review])"
   ]
  },
  {
   "cell_type": "code",
   "execution_count": 19,
   "id": "7ef06c04",
   "metadata": {},
   "outputs": [],
   "source": [
    "df1= pd.read_csv('Books_utf8.csv',encoding = 'ISO-8859-1')\n",
    "df2= pd.read_csv('Book_info.csv',encoding = 'ISO-8859-1')"
   ]
  },
  {
   "cell_type": "code",
   "execution_count": 20,
   "id": "0cbdf92a",
   "metadata": {},
   "outputs": [
    {
     "data": {
      "text/html": [
       "<div>\n",
       "<style scoped>\n",
       "    .dataframe tbody tr th:only-of-type {\n",
       "        vertical-align: middle;\n",
       "    }\n",
       "\n",
       "    .dataframe tbody tr th {\n",
       "        vertical-align: top;\n",
       "    }\n",
       "\n",
       "    .dataframe thead th {\n",
       "        text-align: right;\n",
       "    }\n",
       "</style>\n",
       "<table border=\"1\" class=\"dataframe\">\n",
       "  <thead>\n",
       "    <tr style=\"text-align: right;\">\n",
       "      <th></th>\n",
       "      <th>title</th>\n",
       "      <th>rating</th>\n",
       "      <th>price</th>\n",
       "      <th>availability</th>\n",
       "      <th>title_link</th>\n",
       "      <th>img_link</th>\n",
       "    </tr>\n",
       "  </thead>\n",
       "  <tbody>\n",
       "    <tr>\n",
       "      <th>0</th>\n",
       "      <td>A Light in the Attic</td>\n",
       "      <td>Three</td>\n",
       "      <td>51.77</td>\n",
       "      <td>In stock</td>\n",
       "      <td>https://books.toscrape.com/catalogue/a-light-i...</td>\n",
       "      <td>https://books.toscrape.com/media/cache/2c/da/2...</td>\n",
       "    </tr>\n",
       "    <tr>\n",
       "      <th>1</th>\n",
       "      <td>Tipping the Velvet</td>\n",
       "      <td>One</td>\n",
       "      <td>53.74</td>\n",
       "      <td>In stock</td>\n",
       "      <td>https://books.toscrape.com/catalogue/tipping-t...</td>\n",
       "      <td>https://books.toscrape.com/media/cache/26/0c/2...</td>\n",
       "    </tr>\n",
       "    <tr>\n",
       "      <th>2</th>\n",
       "      <td>Soumission</td>\n",
       "      <td>One</td>\n",
       "      <td>50.10</td>\n",
       "      <td>In stock</td>\n",
       "      <td>https://books.toscrape.com/catalogue/soumissio...</td>\n",
       "      <td>https://books.toscrape.com/media/cache/3e/ef/3...</td>\n",
       "    </tr>\n",
       "    <tr>\n",
       "      <th>3</th>\n",
       "      <td>Sharp Objects</td>\n",
       "      <td>Four</td>\n",
       "      <td>47.82</td>\n",
       "      <td>In stock</td>\n",
       "      <td>https://books.toscrape.com/catalogue/sharp-obj...</td>\n",
       "      <td>https://books.toscrape.com/media/cache/32/51/3...</td>\n",
       "    </tr>\n",
       "    <tr>\n",
       "      <th>4</th>\n",
       "      <td>Sapiens: A Brief History of Humankind</td>\n",
       "      <td>Five</td>\n",
       "      <td>54.23</td>\n",
       "      <td>In stock</td>\n",
       "      <td>https://books.toscrape.com/catalogue/sapiens-a...</td>\n",
       "      <td>https://books.toscrape.com/media/cache/be/a5/b...</td>\n",
       "    </tr>\n",
       "  </tbody>\n",
       "</table>\n",
       "</div>"
      ],
      "text/plain": [
       "                                   title rating  price availability  \\\n",
       "0                   A Light in the Attic  Three  51.77     In stock   \n",
       "1                     Tipping the Velvet    One  53.74     In stock   \n",
       "2                             Soumission    One  50.10     In stock   \n",
       "3                          Sharp Objects   Four  47.82     In stock   \n",
       "4  Sapiens: A Brief History of Humankind   Five  54.23     In stock   \n",
       "\n",
       "                                          title_link  \\\n",
       "0  https://books.toscrape.com/catalogue/a-light-i...   \n",
       "1  https://books.toscrape.com/catalogue/tipping-t...   \n",
       "2  https://books.toscrape.com/catalogue/soumissio...   \n",
       "3  https://books.toscrape.com/catalogue/sharp-obj...   \n",
       "4  https://books.toscrape.com/catalogue/sapiens-a...   \n",
       "\n",
       "                                            img_link  \n",
       "0  https://books.toscrape.com/media/cache/2c/da/2...  \n",
       "1  https://books.toscrape.com/media/cache/26/0c/2...  \n",
       "2  https://books.toscrape.com/media/cache/3e/ef/3...  \n",
       "3  https://books.toscrape.com/media/cache/32/51/3...  \n",
       "4  https://books.toscrape.com/media/cache/be/a5/b...  "
      ]
     },
     "execution_count": 20,
     "metadata": {},
     "output_type": "execute_result"
    }
   ],
   "source": [
    "df1.head()"
   ]
  },
  {
   "cell_type": "code",
   "execution_count": 21,
   "id": "7317a2cf",
   "metadata": {},
   "outputs": [
    {
     "data": {
      "text/html": [
       "<div>\n",
       "<style scoped>\n",
       "    .dataframe tbody tr th:only-of-type {\n",
       "        vertical-align: middle;\n",
       "    }\n",
       "\n",
       "    .dataframe tbody tr th {\n",
       "        vertical-align: top;\n",
       "    }\n",
       "\n",
       "    .dataframe thead th {\n",
       "        text-align: right;\n",
       "    }\n",
       "</style>\n",
       "<table border=\"1\" class=\"dataframe\">\n",
       "  <thead>\n",
       "    <tr style=\"text-align: right;\">\n",
       "      <th></th>\n",
       "      <th>Category</th>\n",
       "      <th>Quantity</th>\n",
       "      <th>UPC</th>\n",
       "      <th>Price_x</th>\n",
       "      <th>Price_i</th>\n",
       "      <th>Tax</th>\n",
       "      <th>Review</th>\n",
       "    </tr>\n",
       "  </thead>\n",
       "  <tbody>\n",
       "    <tr>\n",
       "      <th>0</th>\n",
       "      <td>Poetry</td>\n",
       "      <td>22</td>\n",
       "      <td>a897fe39b1053632</td>\n",
       "      <td>Â£51.77</td>\n",
       "      <td>Â£51.77</td>\n",
       "      <td>Â£0.00</td>\n",
       "      <td>0</td>\n",
       "    </tr>\n",
       "    <tr>\n",
       "      <th>1</th>\n",
       "      <td>Historical Fiction</td>\n",
       "      <td>20</td>\n",
       "      <td>90fa61229261140a</td>\n",
       "      <td>Â£53.74</td>\n",
       "      <td>Â£53.74</td>\n",
       "      <td>Â£0.00</td>\n",
       "      <td>0</td>\n",
       "    </tr>\n",
       "    <tr>\n",
       "      <th>2</th>\n",
       "      <td>Fiction</td>\n",
       "      <td>20</td>\n",
       "      <td>6957f44c3847a760</td>\n",
       "      <td>Â£50.10</td>\n",
       "      <td>Â£50.10</td>\n",
       "      <td>Â£0.00</td>\n",
       "      <td>0</td>\n",
       "    </tr>\n",
       "    <tr>\n",
       "      <th>3</th>\n",
       "      <td>Mystery</td>\n",
       "      <td>20</td>\n",
       "      <td>e00eb4fd7b871a48</td>\n",
       "      <td>Â£47.82</td>\n",
       "      <td>Â£47.82</td>\n",
       "      <td>Â£0.00</td>\n",
       "      <td>0</td>\n",
       "    </tr>\n",
       "    <tr>\n",
       "      <th>4</th>\n",
       "      <td>History</td>\n",
       "      <td>20</td>\n",
       "      <td>4165285e1663650f</td>\n",
       "      <td>Â£54.23</td>\n",
       "      <td>Â£54.23</td>\n",
       "      <td>Â£0.00</td>\n",
       "      <td>0</td>\n",
       "    </tr>\n",
       "  </tbody>\n",
       "</table>\n",
       "</div>"
      ],
      "text/plain": [
       "             Category  Quantity               UPC  Price_x  Price_i     Tax  \\\n",
       "0              Poetry        22  a897fe39b1053632  Â£51.77  Â£51.77  Â£0.00   \n",
       "1  Historical Fiction        20  90fa61229261140a  Â£53.74  Â£53.74  Â£0.00   \n",
       "2             Fiction        20  6957f44c3847a760  Â£50.10  Â£50.10  Â£0.00   \n",
       "3             Mystery        20  e00eb4fd7b871a48  Â£47.82  Â£47.82  Â£0.00   \n",
       "4             History        20  4165285e1663650f  Â£54.23  Â£54.23  Â£0.00   \n",
       "\n",
       "   Review  \n",
       "0       0  \n",
       "1       0  \n",
       "2       0  \n",
       "3       0  \n",
       "4       0  "
      ]
     },
     "execution_count": 21,
     "metadata": {},
     "output_type": "execute_result"
    }
   ],
   "source": [
    "df2.head()"
   ]
  },
  {
   "cell_type": "code",
   "execution_count": 22,
   "id": "500542ef",
   "metadata": {},
   "outputs": [],
   "source": [
    "df= pd.DataFrame()\n",
    "\n",
    "df['Title']        =  df1['title']\n",
    "df['UPC']          =  df2['UPC']\n",
    "df['Category']     =  df2['Category']\n",
    "df['Rating']       =  df1['rating']\n",
    "df['Quantity']     =  df2['Quantity']\n",
    "df['Price_x']      =  df2['Price_x']\n",
    "df['Price_i']      =  df2['Price_i']\n",
    "df['Total_price']  =  df1['price']\n",
    "df['Title_link']   =  df1['title_link']\n",
    "df['Img_link']     =  df1['img_link']"
   ]
  },
  {
   "cell_type": "code",
   "execution_count": 23,
   "id": "488d5936",
   "metadata": {},
   "outputs": [
    {
     "data": {
      "text/html": [
       "<div>\n",
       "<style scoped>\n",
       "    .dataframe tbody tr th:only-of-type {\n",
       "        vertical-align: middle;\n",
       "    }\n",
       "\n",
       "    .dataframe tbody tr th {\n",
       "        vertical-align: top;\n",
       "    }\n",
       "\n",
       "    .dataframe thead th {\n",
       "        text-align: right;\n",
       "    }\n",
       "</style>\n",
       "<table border=\"1\" class=\"dataframe\">\n",
       "  <thead>\n",
       "    <tr style=\"text-align: right;\">\n",
       "      <th></th>\n",
       "      <th>Title</th>\n",
       "      <th>UPC</th>\n",
       "      <th>Category</th>\n",
       "      <th>Rating</th>\n",
       "      <th>Quantity</th>\n",
       "      <th>Price_x</th>\n",
       "      <th>Price_i</th>\n",
       "      <th>Total_price</th>\n",
       "      <th>Title_link</th>\n",
       "      <th>Img_link</th>\n",
       "    </tr>\n",
       "  </thead>\n",
       "  <tbody>\n",
       "    <tr>\n",
       "      <th>0</th>\n",
       "      <td>A Light in the Attic</td>\n",
       "      <td>a897fe39b1053632</td>\n",
       "      <td>Poetry</td>\n",
       "      <td>Three</td>\n",
       "      <td>22</td>\n",
       "      <td>Â£51.77</td>\n",
       "      <td>Â£51.77</td>\n",
       "      <td>51.77</td>\n",
       "      <td>https://books.toscrape.com/catalogue/a-light-i...</td>\n",
       "      <td>https://books.toscrape.com/media/cache/2c/da/2...</td>\n",
       "    </tr>\n",
       "    <tr>\n",
       "      <th>1</th>\n",
       "      <td>Tipping the Velvet</td>\n",
       "      <td>90fa61229261140a</td>\n",
       "      <td>Historical Fiction</td>\n",
       "      <td>One</td>\n",
       "      <td>20</td>\n",
       "      <td>Â£53.74</td>\n",
       "      <td>Â£53.74</td>\n",
       "      <td>53.74</td>\n",
       "      <td>https://books.toscrape.com/catalogue/tipping-t...</td>\n",
       "      <td>https://books.toscrape.com/media/cache/26/0c/2...</td>\n",
       "    </tr>\n",
       "    <tr>\n",
       "      <th>2</th>\n",
       "      <td>Soumission</td>\n",
       "      <td>6957f44c3847a760</td>\n",
       "      <td>Fiction</td>\n",
       "      <td>One</td>\n",
       "      <td>20</td>\n",
       "      <td>Â£50.10</td>\n",
       "      <td>Â£50.10</td>\n",
       "      <td>50.10</td>\n",
       "      <td>https://books.toscrape.com/catalogue/soumissio...</td>\n",
       "      <td>https://books.toscrape.com/media/cache/3e/ef/3...</td>\n",
       "    </tr>\n",
       "    <tr>\n",
       "      <th>3</th>\n",
       "      <td>Sharp Objects</td>\n",
       "      <td>e00eb4fd7b871a48</td>\n",
       "      <td>Mystery</td>\n",
       "      <td>Four</td>\n",
       "      <td>20</td>\n",
       "      <td>Â£47.82</td>\n",
       "      <td>Â£47.82</td>\n",
       "      <td>47.82</td>\n",
       "      <td>https://books.toscrape.com/catalogue/sharp-obj...</td>\n",
       "      <td>https://books.toscrape.com/media/cache/32/51/3...</td>\n",
       "    </tr>\n",
       "    <tr>\n",
       "      <th>4</th>\n",
       "      <td>Sapiens: A Brief History of Humankind</td>\n",
       "      <td>4165285e1663650f</td>\n",
       "      <td>History</td>\n",
       "      <td>Five</td>\n",
       "      <td>20</td>\n",
       "      <td>Â£54.23</td>\n",
       "      <td>Â£54.23</td>\n",
       "      <td>54.23</td>\n",
       "      <td>https://books.toscrape.com/catalogue/sapiens-a...</td>\n",
       "      <td>https://books.toscrape.com/media/cache/be/a5/b...</td>\n",
       "    </tr>\n",
       "  </tbody>\n",
       "</table>\n",
       "</div>"
      ],
      "text/plain": [
       "                                   Title               UPC  \\\n",
       "0                   A Light in the Attic  a897fe39b1053632   \n",
       "1                     Tipping the Velvet  90fa61229261140a   \n",
       "2                             Soumission  6957f44c3847a760   \n",
       "3                          Sharp Objects  e00eb4fd7b871a48   \n",
       "4  Sapiens: A Brief History of Humankind  4165285e1663650f   \n",
       "\n",
       "             Category Rating  Quantity  Price_x  Price_i  Total_price  \\\n",
       "0              Poetry  Three        22  Â£51.77  Â£51.77        51.77   \n",
       "1  Historical Fiction    One        20  Â£53.74  Â£53.74        53.74   \n",
       "2             Fiction    One        20  Â£50.10  Â£50.10        50.10   \n",
       "3             Mystery   Four        20  Â£47.82  Â£47.82        47.82   \n",
       "4             History   Five        20  Â£54.23  Â£54.23        54.23   \n",
       "\n",
       "                                          Title_link  \\\n",
       "0  https://books.toscrape.com/catalogue/a-light-i...   \n",
       "1  https://books.toscrape.com/catalogue/tipping-t...   \n",
       "2  https://books.toscrape.com/catalogue/soumissio...   \n",
       "3  https://books.toscrape.com/catalogue/sharp-obj...   \n",
       "4  https://books.toscrape.com/catalogue/sapiens-a...   \n",
       "\n",
       "                                            Img_link  \n",
       "0  https://books.toscrape.com/media/cache/2c/da/2...  \n",
       "1  https://books.toscrape.com/media/cache/26/0c/2...  \n",
       "2  https://books.toscrape.com/media/cache/3e/ef/3...  \n",
       "3  https://books.toscrape.com/media/cache/32/51/3...  \n",
       "4  https://books.toscrape.com/media/cache/be/a5/b...  "
      ]
     },
     "execution_count": 23,
     "metadata": {},
     "output_type": "execute_result"
    }
   ],
   "source": [
    "df.head()"
   ]
  },
  {
   "cell_type": "code",
   "execution_count": 27,
   "id": "3bd0815f",
   "metadata": {},
   "outputs": [],
   "source": [
    "df = df.replace('Â£', '', regex=True)"
   ]
  },
  {
   "cell_type": "code",
   "execution_count": 28,
   "id": "58a625a6",
   "metadata": {},
   "outputs": [
    {
     "data": {
      "text/html": [
       "<div>\n",
       "<style scoped>\n",
       "    .dataframe tbody tr th:only-of-type {\n",
       "        vertical-align: middle;\n",
       "    }\n",
       "\n",
       "    .dataframe tbody tr th {\n",
       "        vertical-align: top;\n",
       "    }\n",
       "\n",
       "    .dataframe thead th {\n",
       "        text-align: right;\n",
       "    }\n",
       "</style>\n",
       "<table border=\"1\" class=\"dataframe\">\n",
       "  <thead>\n",
       "    <tr style=\"text-align: right;\">\n",
       "      <th></th>\n",
       "      <th>Title</th>\n",
       "      <th>UPC</th>\n",
       "      <th>Category</th>\n",
       "      <th>Rating</th>\n",
       "      <th>Quantity</th>\n",
       "      <th>Price_x</th>\n",
       "      <th>Price_i</th>\n",
       "      <th>Total_price</th>\n",
       "      <th>Title_link</th>\n",
       "      <th>Img_link</th>\n",
       "    </tr>\n",
       "  </thead>\n",
       "  <tbody>\n",
       "    <tr>\n",
       "      <th>0</th>\n",
       "      <td>A Light in the Attic</td>\n",
       "      <td>a897fe39b1053632</td>\n",
       "      <td>Poetry</td>\n",
       "      <td>Three</td>\n",
       "      <td>22</td>\n",
       "      <td>51.77</td>\n",
       "      <td>51.77</td>\n",
       "      <td>51.77</td>\n",
       "      <td>https://books.toscrape.com/catalogue/a-light-i...</td>\n",
       "      <td>https://books.toscrape.com/media/cache/2c/da/2...</td>\n",
       "    </tr>\n",
       "    <tr>\n",
       "      <th>1</th>\n",
       "      <td>Tipping the Velvet</td>\n",
       "      <td>90fa61229261140a</td>\n",
       "      <td>Historical Fiction</td>\n",
       "      <td>One</td>\n",
       "      <td>20</td>\n",
       "      <td>53.74</td>\n",
       "      <td>53.74</td>\n",
       "      <td>53.74</td>\n",
       "      <td>https://books.toscrape.com/catalogue/tipping-t...</td>\n",
       "      <td>https://books.toscrape.com/media/cache/26/0c/2...</td>\n",
       "    </tr>\n",
       "    <tr>\n",
       "      <th>2</th>\n",
       "      <td>Soumission</td>\n",
       "      <td>6957f44c3847a760</td>\n",
       "      <td>Fiction</td>\n",
       "      <td>One</td>\n",
       "      <td>20</td>\n",
       "      <td>50.10</td>\n",
       "      <td>50.10</td>\n",
       "      <td>50.10</td>\n",
       "      <td>https://books.toscrape.com/catalogue/soumissio...</td>\n",
       "      <td>https://books.toscrape.com/media/cache/3e/ef/3...</td>\n",
       "    </tr>\n",
       "    <tr>\n",
       "      <th>3</th>\n",
       "      <td>Sharp Objects</td>\n",
       "      <td>e00eb4fd7b871a48</td>\n",
       "      <td>Mystery</td>\n",
       "      <td>Four</td>\n",
       "      <td>20</td>\n",
       "      <td>47.82</td>\n",
       "      <td>47.82</td>\n",
       "      <td>47.82</td>\n",
       "      <td>https://books.toscrape.com/catalogue/sharp-obj...</td>\n",
       "      <td>https://books.toscrape.com/media/cache/32/51/3...</td>\n",
       "    </tr>\n",
       "    <tr>\n",
       "      <th>4</th>\n",
       "      <td>Sapiens: A Brief History of Humankind</td>\n",
       "      <td>4165285e1663650f</td>\n",
       "      <td>History</td>\n",
       "      <td>Five</td>\n",
       "      <td>20</td>\n",
       "      <td>54.23</td>\n",
       "      <td>54.23</td>\n",
       "      <td>54.23</td>\n",
       "      <td>https://books.toscrape.com/catalogue/sapiens-a...</td>\n",
       "      <td>https://books.toscrape.com/media/cache/be/a5/b...</td>\n",
       "    </tr>\n",
       "  </tbody>\n",
       "</table>\n",
       "</div>"
      ],
      "text/plain": [
       "                                   Title               UPC  \\\n",
       "0                   A Light in the Attic  a897fe39b1053632   \n",
       "1                     Tipping the Velvet  90fa61229261140a   \n",
       "2                             Soumission  6957f44c3847a760   \n",
       "3                          Sharp Objects  e00eb4fd7b871a48   \n",
       "4  Sapiens: A Brief History of Humankind  4165285e1663650f   \n",
       "\n",
       "             Category Rating  Quantity Price_x Price_i  Total_price  \\\n",
       "0              Poetry  Three        22   51.77   51.77        51.77   \n",
       "1  Historical Fiction    One        20   53.74   53.74        53.74   \n",
       "2             Fiction    One        20   50.10   50.10        50.10   \n",
       "3             Mystery   Four        20   47.82   47.82        47.82   \n",
       "4             History   Five        20   54.23   54.23        54.23   \n",
       "\n",
       "                                          Title_link  \\\n",
       "0  https://books.toscrape.com/catalogue/a-light-i...   \n",
       "1  https://books.toscrape.com/catalogue/tipping-t...   \n",
       "2  https://books.toscrape.com/catalogue/soumissio...   \n",
       "3  https://books.toscrape.com/catalogue/sharp-obj...   \n",
       "4  https://books.toscrape.com/catalogue/sapiens-a...   \n",
       "\n",
       "                                            Img_link  \n",
       "0  https://books.toscrape.com/media/cache/2c/da/2...  \n",
       "1  https://books.toscrape.com/media/cache/26/0c/2...  \n",
       "2  https://books.toscrape.com/media/cache/3e/ef/3...  \n",
       "3  https://books.toscrape.com/media/cache/32/51/3...  \n",
       "4  https://books.toscrape.com/media/cache/be/a5/b...  "
      ]
     },
     "execution_count": 28,
     "metadata": {},
     "output_type": "execute_result"
    }
   ],
   "source": [
    "df.head()"
   ]
  },
  {
   "cell_type": "code",
   "execution_count": 29,
   "id": "0d89393d",
   "metadata": {},
   "outputs": [],
   "source": [
    "df.to_csv('Book_details_combined.csv',index=False)"
   ]
  },
  {
   "cell_type": "code",
   "execution_count": null,
   "id": "9c1d6bd3",
   "metadata": {},
   "outputs": [],
   "source": []
  }
 ],
 "metadata": {
  "kernelspec": {
   "display_name": "Python 3 (ipykernel)",
   "language": "python",
   "name": "python3"
  },
  "language_info": {
   "codemirror_mode": {
    "name": "ipython",
    "version": 3
   },
   "file_extension": ".py",
   "mimetype": "text/x-python",
   "name": "python",
   "nbconvert_exporter": "python",
   "pygments_lexer": "ipython3",
   "version": "3.9.7"
  }
 },
 "nbformat": 4,
 "nbformat_minor": 5
}
