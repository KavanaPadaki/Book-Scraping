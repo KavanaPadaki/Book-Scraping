{
 "cells": [
  {
   "cell_type": "code",
   "execution_count": 63,
   "id": "98f5ffd4",
   "metadata": {},
   "outputs": [],
   "source": [
    "import requests\n",
    "import pandas as pd\n",
    "from bs4 import BeautifulSoup\n",
    "from tqdm import tqdm"
   ]
  },
  {
   "cell_type": "code",
   "execution_count": 64,
   "id": "a5afda0f",
   "metadata": {},
   "outputs": [
    {
     "name": "stderr",
     "output_type": "stream",
     "text": [
      "100%|██████████████████████████████████████████████████████████████████████████████████| 50/50 [01:16<00:00,  1.53s/it]\n"
     ]
    }
   ],
   "source": [
    "data=[]\n",
    "for i in tqdm(range(1,51)):\n",
    "    link = 'https://books.toscrape.com/catalogue/category/books_1/page-'+str(i)+'.html'\n",
    "    res = requests.get(link)\n",
    "    soup = BeautifulSoup(res.text,'html.parser')\n",
    "    \n",
    "    for sp in soup.find_all('li',class_='col-xs-6 col-sm-4 col-md-3 col-lg-3') :\n",
    "        \n",
    "        img_link    = 'https://books.toscrape.com'+ sp.find('img').get('src')[8:]\n",
    "        title_link  = 'https://books.toscrape.com/catalogue' + sp.find('a').get('href')[5:]\n",
    "        title       = sp.find_all('a')[-1].get('title')\n",
    "        rating      = sp.find('p').get('class')[-1]\n",
    "        price       = sp.find('p',class_='price_color').text[2:]\n",
    "        availability= sp.find('p',class_='instock availability').text.strip()\n",
    "\n",
    "        data.append([title, rating, price,availability, title_link, img_link])\n",
    "        "
   ]
  },
  {
   "cell_type": "code",
   "execution_count": 65,
   "id": "584e8609",
   "metadata": {},
   "outputs": [
    {
     "data": {
      "text/plain": [
       "1000"
      ]
     },
     "execution_count": 65,
     "metadata": {},
     "output_type": "execute_result"
    }
   ],
   "source": [
    "len(data)"
   ]
  },
  {
   "cell_type": "code",
   "execution_count": 66,
   "id": "93c285fc",
   "metadata": {},
   "outputs": [
    {
     "data": {
      "text/plain": [
       "['A Light in the Attic',\n",
       " 'Three',\n",
       " '51.77',\n",
       " 'In stock',\n",
       " 'https://books.toscrape.com/catalogue/a-light-in-the-attic_1000/index.html',\n",
       " 'https://books.toscrape.com/media/cache/2c/da/2cdad67c44b002e7ead0cc35693c0e8b.jpg']"
      ]
     },
     "execution_count": 66,
     "metadata": {},
     "output_type": "execute_result"
    }
   ],
   "source": [
    "data[0]"
   ]
  },
  {
   "cell_type": "code",
   "execution_count": 67,
   "id": "c513d0ac",
   "metadata": {},
   "outputs": [],
   "source": [
    "df = pd.DataFrame(data,columns=['title', 'rating', 'price','availability', 'title_link', 'img_link'])"
   ]
  },
  {
   "cell_type": "code",
   "execution_count": 69,
   "id": "144b38e7",
   "metadata": {},
   "outputs": [],
   "source": [
    "df.to_csv('Books.csv',index=False)"
   ]
  },
  {
   "cell_type": "code",
   "execution_count": 70,
   "id": "18b7bce1",
   "metadata": {},
   "outputs": [
    {
     "data": {
      "text/plain": [
       "1000"
      ]
     },
     "execution_count": 70,
     "metadata": {},
     "output_type": "execute_result"
    }
   ],
   "source": [
    "len(df)"
   ]
  },
  {
   "cell_type": "code",
   "execution_count": 71,
   "id": "1a5c0e5a",
   "metadata": {},
   "outputs": [
    {
     "data": {
      "text/plain": [
       "title           0\n",
       "rating          0\n",
       "price           0\n",
       "availability    0\n",
       "title_link      0\n",
       "img_link        0\n",
       "dtype: int64"
      ]
     },
     "execution_count": 71,
     "metadata": {},
     "output_type": "execute_result"
    }
   ],
   "source": [
    "df.isnull().sum()"
   ]
  },
  {
   "cell_type": "code",
   "execution_count": null,
   "id": "deae57e7",
   "metadata": {},
   "outputs": [],
   "source": []
  }
 ],
 "metadata": {
  "kernelspec": {
   "display_name": "Python 3 (ipykernel)",
   "language": "python",
   "name": "python3"
  },
  "language_info": {
   "codemirror_mode": {
    "name": "ipython",
    "version": 3
   },
   "file_extension": ".py",
   "mimetype": "text/x-python",
   "name": "python",
   "nbconvert_exporter": "python",
   "pygments_lexer": "ipython3",
   "version": "3.9.7"
  }
 },
 "nbformat": 4,
 "nbformat_minor": 5
}
